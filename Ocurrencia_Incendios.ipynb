{
 "cells": [
  {
   "cell_type": "markdown",
   "metadata": {},
   "source": [
    "# Librerías"
   ]
  },
  {
   "cell_type": "code",
   "execution_count": 8,
   "metadata": {},
   "outputs": [],
   "source": [
    "import pandas as pd\n",
    "from sklearn.ensemble import RandomForestClassifier    # Clasificador de Bosques aleatorios\n",
    "from sklearn.model_selection import GridSearchCV       # Rejilla de hiperparametros"
   ]
  },
  {
   "cell_type": "markdown",
   "metadata": {},
   "source": [
    "# Lectura base de datos"
   ]
  },
  {
   "cell_type": "code",
   "execution_count": 60,
   "metadata": {},
   "outputs": [
    {
     "data": {
      "text/html": [
       "<div>\n",
       "<style scoped>\n",
       "    .dataframe tbody tr th:only-of-type {\n",
       "        vertical-align: middle;\n",
       "    }\n",
       "\n",
       "    .dataframe tbody tr th {\n",
       "        vertical-align: top;\n",
       "    }\n",
       "\n",
       "    .dataframe thead th {\n",
       "        text-align: right;\n",
       "    }\n",
       "</style>\n",
       "<table border=\"1\" class=\"dataframe\">\n",
       "  <thead>\n",
       "    <tr style=\"text-align: right;\">\n",
       "      <th></th>\n",
       "      <th>LATITUD</th>\n",
       "      <th>LONGITUD</th>\n",
       "      <th>Temperatura</th>\n",
       "      <th>Pmm_radar</th>\n",
       "      <th>DEM_AMVA</th>\n",
       "      <th>Ocurrencia</th>\n",
       "    </tr>\n",
       "  </thead>\n",
       "  <tbody>\n",
       "    <tr>\n",
       "      <th>0</th>\n",
       "      <td>6.052000</td>\n",
       "      <td>-75.619000</td>\n",
       "      <td>23.2313</td>\n",
       "      <td>0.000000</td>\n",
       "      <td>1897</td>\n",
       "      <td>1</td>\n",
       "    </tr>\n",
       "    <tr>\n",
       "      <th>1</th>\n",
       "      <td>6.167930</td>\n",
       "      <td>-75.643800</td>\n",
       "      <td>25.5000</td>\n",
       "      <td>0.000000</td>\n",
       "      <td>1798</td>\n",
       "      <td>0</td>\n",
       "    </tr>\n",
       "    <tr>\n",
       "      <th>2</th>\n",
       "      <td>6.186000</td>\n",
       "      <td>-75.641000</td>\n",
       "      <td>25.1730</td>\n",
       "      <td>0.000000</td>\n",
       "      <td>1719</td>\n",
       "      <td>1</td>\n",
       "    </tr>\n",
       "    <tr>\n",
       "      <th>3</th>\n",
       "      <td>6.167930</td>\n",
       "      <td>-75.643800</td>\n",
       "      <td>25.3000</td>\n",
       "      <td>0.000000</td>\n",
       "      <td>1798</td>\n",
       "      <td>0</td>\n",
       "    </tr>\n",
       "    <tr>\n",
       "      <th>4</th>\n",
       "      <td>6.079000</td>\n",
       "      <td>-75.634000</td>\n",
       "      <td>23.8933</td>\n",
       "      <td>0.000000</td>\n",
       "      <td>1816</td>\n",
       "      <td>1</td>\n",
       "    </tr>\n",
       "    <tr>\n",
       "      <th>...</th>\n",
       "      <td>...</td>\n",
       "      <td>...</td>\n",
       "      <td>...</td>\n",
       "      <td>...</td>\n",
       "      <td>...</td>\n",
       "      <td>...</td>\n",
       "    </tr>\n",
       "    <tr>\n",
       "      <th>5803</th>\n",
       "      <td>6.238000</td>\n",
       "      <td>-75.627000</td>\n",
       "      <td>26.4479</td>\n",
       "      <td>18.074453</td>\n",
       "      <td>1769</td>\n",
       "      <td>1</td>\n",
       "    </tr>\n",
       "    <tr>\n",
       "      <th>5804</th>\n",
       "      <td>6.255245</td>\n",
       "      <td>-75.542478</td>\n",
       "      <td>26.9500</td>\n",
       "      <td>10.092163</td>\n",
       "      <td>1877</td>\n",
       "      <td>0</td>\n",
       "    </tr>\n",
       "    <tr>\n",
       "      <th>5805</th>\n",
       "      <td>6.254000</td>\n",
       "      <td>-75.536000</td>\n",
       "      <td>24.4348</td>\n",
       "      <td>9.733376</td>\n",
       "      <td>2109</td>\n",
       "      <td>1</td>\n",
       "    </tr>\n",
       "    <tr>\n",
       "      <th>5806</th>\n",
       "      <td>6.271891</td>\n",
       "      <td>-75.631123</td>\n",
       "      <td>25.0000</td>\n",
       "      <td>14.298922</td>\n",
       "      <td>1895</td>\n",
       "      <td>0</td>\n",
       "    </tr>\n",
       "    <tr>\n",
       "      <th>5807</th>\n",
       "      <td>6.270000</td>\n",
       "      <td>-75.633000</td>\n",
       "      <td>25.7114</td>\n",
       "      <td>14.254801</td>\n",
       "      <td>1856</td>\n",
       "      <td>1</td>\n",
       "    </tr>\n",
       "  </tbody>\n",
       "</table>\n",
       "<p>5808 rows × 6 columns</p>\n",
       "</div>"
      ],
      "text/plain": [
       "       LATITUD   LONGITUD  Temperatura  Pmm_radar  DEM_AMVA  Ocurrencia\n",
       "0     6.052000 -75.619000      23.2313   0.000000      1897           1\n",
       "1     6.167930 -75.643800      25.5000   0.000000      1798           0\n",
       "2     6.186000 -75.641000      25.1730   0.000000      1719           1\n",
       "3     6.167930 -75.643800      25.3000   0.000000      1798           0\n",
       "4     6.079000 -75.634000      23.8933   0.000000      1816           1\n",
       "...        ...        ...          ...        ...       ...         ...\n",
       "5803  6.238000 -75.627000      26.4479  18.074453      1769           1\n",
       "5804  6.255245 -75.542478      26.9500  10.092163      1877           0\n",
       "5805  6.254000 -75.536000      24.4348   9.733376      2109           1\n",
       "5806  6.271891 -75.631123      25.0000  14.298922      1895           0\n",
       "5807  6.270000 -75.633000      25.7114  14.254801      1856           1\n",
       "\n",
       "[5808 rows x 6 columns]"
      ]
     },
     "execution_count": 60,
     "metadata": {},
     "output_type": "execute_result"
    }
   ],
   "source": [
    "Ocurrencia_Incendios = pd.read_csv(\"Base_datos1.csv\")\n",
    "Ocurrencia_Incendios.rename(columns={\"Temperatur\": \"Temperatura\"}, inplace=True) # Indica si la modificación debe realizarse directamente en el DataFrame original o si debe devolver un nuevo DataFrame con los cambios aplicados\n",
    "Ocurrencia_Incendios = Ocurrencia_Incendios.drop(columns = [\"FECHA\"])\n",
    "Ocurrencia_Incendios"
   ]
  },
  {
   "cell_type": "code",
   "execution_count": 61,
   "metadata": {},
   "outputs": [
    {
     "name": "stdout",
     "output_type": "stream",
     "text": [
      "Index(['LATITUD', 'LONGITUD', 'Temperatura', 'Pmm_radar', 'DEM_AMVA'], dtype='object') \n",
      "\n",
      "['LONGITUD', 'Temperatura', 'LATITUD']\n"
     ]
    }
   ],
   "source": [
    "'''Recordar que es importante que separamos el DataFrame en muestras aleatorias,\n",
    "Acá un ejemplo de como se pueden separar: '''\n",
    "\n",
    "from random import sample\n",
    "\n",
    "print(Ocurrencia_Incendios.columns[:-1], \"\\n\")\n",
    "\n",
    "columnas_muestreo = list(set(Ocurrencia_Incendios.columns[:-1]))\n",
    "print(sample(columnas_muestreo, 3))    # No se pone la ocurrencia"
   ]
  },
  {
   "cell_type": "markdown",
   "metadata": {},
   "source": [
    "# Exploración hiperparametros para el modelos de arboles aleatorios"
   ]
  },
  {
   "cell_type": "code",
   "execution_count": 62,
   "metadata": {},
   "outputs": [
    {
     "data": {
      "text/plain": [
       "{'bootstrap': True,\n",
       " 'ccp_alpha': 0.0,\n",
       " 'class_weight': None,\n",
       " 'criterion': 'gini',\n",
       " 'max_depth': None,\n",
       " 'max_features': 'sqrt',\n",
       " 'max_leaf_nodes': None,\n",
       " 'max_samples': None,\n",
       " 'min_impurity_decrease': 0.0,\n",
       " 'min_samples_leaf': 1,\n",
       " 'min_samples_split': 2,\n",
       " 'min_weight_fraction_leaf': 0.0,\n",
       " 'n_estimators': 100,\n",
       " 'n_jobs': None,\n",
       " 'oob_score': False,\n",
       " 'random_state': None,\n",
       " 'verbose': 0,\n",
       " 'warm_start': False}"
      ]
     },
     "execution_count": 62,
     "metadata": {},
     "output_type": "execute_result"
    }
   ],
   "source": [
    "'''¿Cuales son los hiperparametros de este modelo?,\n",
    "A continuación tengo un diccionario de todos los hiperparametros que pueden ser cambiados para ajustar mi modelo: '''\n",
    "\n",
    "bosque = RandomForestClassifier()\n",
    "bosque.get_params()"
   ]
  },
  {
   "cell_type": "code",
   "execution_count": 68,
   "metadata": {},
   "outputs": [
    {
     "data": {
      "text/html": [
       "<style>#sk-container-id-4 {color: black;}#sk-container-id-4 pre{padding: 0;}#sk-container-id-4 div.sk-toggleable {background-color: white;}#sk-container-id-4 label.sk-toggleable__label {cursor: pointer;display: block;width: 100%;margin-bottom: 0;padding: 0.3em;box-sizing: border-box;text-align: center;}#sk-container-id-4 label.sk-toggleable__label-arrow:before {content: \"▸\";float: left;margin-right: 0.25em;color: #696969;}#sk-container-id-4 label.sk-toggleable__label-arrow:hover:before {color: black;}#sk-container-id-4 div.sk-estimator:hover label.sk-toggleable__label-arrow:before {color: black;}#sk-container-id-4 div.sk-toggleable__content {max-height: 0;max-width: 0;overflow: hidden;text-align: left;background-color: #f0f8ff;}#sk-container-id-4 div.sk-toggleable__content pre {margin: 0.2em;color: black;border-radius: 0.25em;background-color: #f0f8ff;}#sk-container-id-4 input.sk-toggleable__control:checked~div.sk-toggleable__content {max-height: 200px;max-width: 100%;overflow: auto;}#sk-container-id-4 input.sk-toggleable__control:checked~label.sk-toggleable__label-arrow:before {content: \"▾\";}#sk-container-id-4 div.sk-estimator input.sk-toggleable__control:checked~label.sk-toggleable__label {background-color: #d4ebff;}#sk-container-id-4 div.sk-label input.sk-toggleable__control:checked~label.sk-toggleable__label {background-color: #d4ebff;}#sk-container-id-4 input.sk-hidden--visually {border: 0;clip: rect(1px 1px 1px 1px);clip: rect(1px, 1px, 1px, 1px);height: 1px;margin: -1px;overflow: hidden;padding: 0;position: absolute;width: 1px;}#sk-container-id-4 div.sk-estimator {font-family: monospace;background-color: #f0f8ff;border: 1px dotted black;border-radius: 0.25em;box-sizing: border-box;margin-bottom: 0.5em;}#sk-container-id-4 div.sk-estimator:hover {background-color: #d4ebff;}#sk-container-id-4 div.sk-parallel-item::after {content: \"\";width: 100%;border-bottom: 1px solid gray;flex-grow: 1;}#sk-container-id-4 div.sk-label:hover label.sk-toggleable__label {background-color: #d4ebff;}#sk-container-id-4 div.sk-serial::before {content: \"\";position: absolute;border-left: 1px solid gray;box-sizing: border-box;top: 0;bottom: 0;left: 50%;z-index: 0;}#sk-container-id-4 div.sk-serial {display: flex;flex-direction: column;align-items: center;background-color: white;padding-right: 0.2em;padding-left: 0.2em;position: relative;}#sk-container-id-4 div.sk-item {position: relative;z-index: 1;}#sk-container-id-4 div.sk-parallel {display: flex;align-items: stretch;justify-content: center;background-color: white;position: relative;}#sk-container-id-4 div.sk-item::before, #sk-container-id-4 div.sk-parallel-item::before {content: \"\";position: absolute;border-left: 1px solid gray;box-sizing: border-box;top: 0;bottom: 0;left: 50%;z-index: -1;}#sk-container-id-4 div.sk-parallel-item {display: flex;flex-direction: column;z-index: 1;position: relative;background-color: white;}#sk-container-id-4 div.sk-parallel-item:first-child::after {align-self: flex-end;width: 50%;}#sk-container-id-4 div.sk-parallel-item:last-child::after {align-self: flex-start;width: 50%;}#sk-container-id-4 div.sk-parallel-item:only-child::after {width: 0;}#sk-container-id-4 div.sk-dashed-wrapped {border: 1px dashed gray;margin: 0 0.4em 0.5em 0.4em;box-sizing: border-box;padding-bottom: 0.4em;background-color: white;}#sk-container-id-4 div.sk-label label {font-family: monospace;font-weight: bold;display: inline-block;line-height: 1.2em;}#sk-container-id-4 div.sk-label-container {text-align: center;}#sk-container-id-4 div.sk-container {/* jupyter's `normalize.less` sets `[hidden] { display: none; }` but bootstrap.min.css set `[hidden] { display: none !important; }` so we also need the `!important` here to be able to override the default hidden behavior on the sphinx rendered scikit-learn.org. See: https://github.com/scikit-learn/scikit-learn/issues/21755 */display: inline-block !important;position: relative;}#sk-container-id-4 div.sk-text-repr-fallback {display: none;}</style><div id=\"sk-container-id-4\" class=\"sk-top-container\"><div class=\"sk-text-repr-fallback\"><pre>GridSearchCV(cv=5, estimator=RandomForestClassifier(),\n",
       "             param_grid={&#x27;criterion&#x27;: (&#x27;gini&#x27;, &#x27;entropy&#x27;),\n",
       "                         &#x27;max_features&#x27;: (None, &#x27;sqrt&#x27;, &#x27;log2&#x27;),\n",
       "                         &#x27;max_samples&#x27;: (0.3333333333333333,\n",
       "                                         0.6666666666666666),\n",
       "                         &#x27;n_estimators&#x27;: (10, 20, 30)},\n",
       "             scoring=&#x27;accuracy&#x27;)</pre><b>In a Jupyter environment, please rerun this cell to show the HTML representation or trust the notebook. <br />On GitHub, the HTML representation is unable to render, please try loading this page with nbviewer.org.</b></div><div class=\"sk-container\" hidden><div class=\"sk-item sk-dashed-wrapped\"><div class=\"sk-label-container\"><div class=\"sk-label sk-toggleable\"><input class=\"sk-toggleable__control sk-hidden--visually\" id=\"sk-estimator-id-10\" type=\"checkbox\" ><label for=\"sk-estimator-id-10\" class=\"sk-toggleable__label sk-toggleable__label-arrow\">GridSearchCV</label><div class=\"sk-toggleable__content\"><pre>GridSearchCV(cv=5, estimator=RandomForestClassifier(),\n",
       "             param_grid={&#x27;criterion&#x27;: (&#x27;gini&#x27;, &#x27;entropy&#x27;),\n",
       "                         &#x27;max_features&#x27;: (None, &#x27;sqrt&#x27;, &#x27;log2&#x27;),\n",
       "                         &#x27;max_samples&#x27;: (0.3333333333333333,\n",
       "                                         0.6666666666666666),\n",
       "                         &#x27;n_estimators&#x27;: (10, 20, 30)},\n",
       "             scoring=&#x27;accuracy&#x27;)</pre></div></div></div><div class=\"sk-parallel\"><div class=\"sk-parallel-item\"><div class=\"sk-item\"><div class=\"sk-label-container\"><div class=\"sk-label sk-toggleable\"><input class=\"sk-toggleable__control sk-hidden--visually\" id=\"sk-estimator-id-11\" type=\"checkbox\" ><label for=\"sk-estimator-id-11\" class=\"sk-toggleable__label sk-toggleable__label-arrow\">estimator: RandomForestClassifier</label><div class=\"sk-toggleable__content\"><pre>RandomForestClassifier()</pre></div></div></div><div class=\"sk-serial\"><div class=\"sk-item\"><div class=\"sk-estimator sk-toggleable\"><input class=\"sk-toggleable__control sk-hidden--visually\" id=\"sk-estimator-id-12\" type=\"checkbox\" ><label for=\"sk-estimator-id-12\" class=\"sk-toggleable__label sk-toggleable__label-arrow\">RandomForestClassifier</label><div class=\"sk-toggleable__content\"><pre>RandomForestClassifier()</pre></div></div></div></div></div></div></div></div></div></div>"
      ],
      "text/plain": [
       "GridSearchCV(cv=5, estimator=RandomForestClassifier(),\n",
       "             param_grid={'criterion': ('gini', 'entropy'),\n",
       "                         'max_features': (None, 'sqrt', 'log2'),\n",
       "                         'max_samples': (0.3333333333333333,\n",
       "                                         0.6666666666666666),\n",
       "                         'n_estimators': (10, 20, 30)},\n",
       "             scoring='accuracy')"
      ]
     },
     "execution_count": 68,
     "metadata": {},
     "output_type": "execute_result"
    }
   ],
   "source": [
    "'''Le puedo agregar más hiperparametros'''\n",
    "\n",
    "parametros = {\"criterion\": (\"gini\", \"entropy\"),\n",
    "              \"n_estimators\" : (10, 20, 30),              # Generar 10, 20, 30 arboles de deciones\n",
    "              \"max_samples\" : (1/3, 2/3),                 # Porcentaje de datos para crear los muestreos\n",
    "              \"max_features\" : (None, \"sqrt\", \"log2\")}    # None = sin restricción, sqrt = Raiz cuadrada y log2 = \n",
    "\n",
    "\n",
    "rejilla = GridSearchCV(bosque, \n",
    "                       parametros, \n",
    "                       scoring=\"accuracy\",\n",
    "                       cv=5)\n",
    "\n",
    "rejilla.fit(Ocurrencia_Incendios[Ocurrencia_Incendios.columns[:-1]].values, \n",
    "            Ocurrencia_Incendios[\"Ocurrencia\"].values)"
   ]
  },
  {
   "cell_type": "code",
   "execution_count": 72,
   "metadata": {},
   "outputs": [
    {
     "data": {
      "text/plain": [
       "[{'criterion': 'gini',\n",
       "  'max_features': None,\n",
       "  'max_samples': 0.3333333333333333,\n",
       "  'n_estimators': 10},\n",
       " {'criterion': 'gini',\n",
       "  'max_features': None,\n",
       "  'max_samples': 0.3333333333333333,\n",
       "  'n_estimators': 20},\n",
       " {'criterion': 'gini',\n",
       "  'max_features': None,\n",
       "  'max_samples': 0.3333333333333333,\n",
       "  'n_estimators': 30},\n",
       " {'criterion': 'gini',\n",
       "  'max_features': None,\n",
       "  'max_samples': 0.6666666666666666,\n",
       "  'n_estimators': 10},\n",
       " {'criterion': 'gini',\n",
       "  'max_features': None,\n",
       "  'max_samples': 0.6666666666666666,\n",
       "  'n_estimators': 20},\n",
       " {'criterion': 'gini',\n",
       "  'max_features': None,\n",
       "  'max_samples': 0.6666666666666666,\n",
       "  'n_estimators': 30},\n",
       " {'criterion': 'gini',\n",
       "  'max_features': 'sqrt',\n",
       "  'max_samples': 0.3333333333333333,\n",
       "  'n_estimators': 10},\n",
       " {'criterion': 'gini',\n",
       "  'max_features': 'sqrt',\n",
       "  'max_samples': 0.3333333333333333,\n",
       "  'n_estimators': 20},\n",
       " {'criterion': 'gini',\n",
       "  'max_features': 'sqrt',\n",
       "  'max_samples': 0.3333333333333333,\n",
       "  'n_estimators': 30},\n",
       " {'criterion': 'gini',\n",
       "  'max_features': 'sqrt',\n",
       "  'max_samples': 0.6666666666666666,\n",
       "  'n_estimators': 10},\n",
       " {'criterion': 'gini',\n",
       "  'max_features': 'sqrt',\n",
       "  'max_samples': 0.6666666666666666,\n",
       "  'n_estimators': 20},\n",
       " {'criterion': 'gini',\n",
       "  'max_features': 'sqrt',\n",
       "  'max_samples': 0.6666666666666666,\n",
       "  'n_estimators': 30},\n",
       " {'criterion': 'gini',\n",
       "  'max_features': 'log2',\n",
       "  'max_samples': 0.3333333333333333,\n",
       "  'n_estimators': 10},\n",
       " {'criterion': 'gini',\n",
       "  'max_features': 'log2',\n",
       "  'max_samples': 0.3333333333333333,\n",
       "  'n_estimators': 20},\n",
       " {'criterion': 'gini',\n",
       "  'max_features': 'log2',\n",
       "  'max_samples': 0.3333333333333333,\n",
       "  'n_estimators': 30},\n",
       " {'criterion': 'gini',\n",
       "  'max_features': 'log2',\n",
       "  'max_samples': 0.6666666666666666,\n",
       "  'n_estimators': 10},\n",
       " {'criterion': 'gini',\n",
       "  'max_features': 'log2',\n",
       "  'max_samples': 0.6666666666666666,\n",
       "  'n_estimators': 20},\n",
       " {'criterion': 'gini',\n",
       "  'max_features': 'log2',\n",
       "  'max_samples': 0.6666666666666666,\n",
       "  'n_estimators': 30},\n",
       " {'criterion': 'entropy',\n",
       "  'max_features': None,\n",
       "  'max_samples': 0.3333333333333333,\n",
       "  'n_estimators': 10},\n",
       " {'criterion': 'entropy',\n",
       "  'max_features': None,\n",
       "  'max_samples': 0.3333333333333333,\n",
       "  'n_estimators': 20},\n",
       " {'criterion': 'entropy',\n",
       "  'max_features': None,\n",
       "  'max_samples': 0.3333333333333333,\n",
       "  'n_estimators': 30},\n",
       " {'criterion': 'entropy',\n",
       "  'max_features': None,\n",
       "  'max_samples': 0.6666666666666666,\n",
       "  'n_estimators': 10},\n",
       " {'criterion': 'entropy',\n",
       "  'max_features': None,\n",
       "  'max_samples': 0.6666666666666666,\n",
       "  'n_estimators': 20},\n",
       " {'criterion': 'entropy',\n",
       "  'max_features': None,\n",
       "  'max_samples': 0.6666666666666666,\n",
       "  'n_estimators': 30},\n",
       " {'criterion': 'entropy',\n",
       "  'max_features': 'sqrt',\n",
       "  'max_samples': 0.3333333333333333,\n",
       "  'n_estimators': 10},\n",
       " {'criterion': 'entropy',\n",
       "  'max_features': 'sqrt',\n",
       "  'max_samples': 0.3333333333333333,\n",
       "  'n_estimators': 20},\n",
       " {'criterion': 'entropy',\n",
       "  'max_features': 'sqrt',\n",
       "  'max_samples': 0.3333333333333333,\n",
       "  'n_estimators': 30},\n",
       " {'criterion': 'entropy',\n",
       "  'max_features': 'sqrt',\n",
       "  'max_samples': 0.6666666666666666,\n",
       "  'n_estimators': 10},\n",
       " {'criterion': 'entropy',\n",
       "  'max_features': 'sqrt',\n",
       "  'max_samples': 0.6666666666666666,\n",
       "  'n_estimators': 20},\n",
       " {'criterion': 'entropy',\n",
       "  'max_features': 'sqrt',\n",
       "  'max_samples': 0.6666666666666666,\n",
       "  'n_estimators': 30},\n",
       " {'criterion': 'entropy',\n",
       "  'max_features': 'log2',\n",
       "  'max_samples': 0.3333333333333333,\n",
       "  'n_estimators': 10},\n",
       " {'criterion': 'entropy',\n",
       "  'max_features': 'log2',\n",
       "  'max_samples': 0.3333333333333333,\n",
       "  'n_estimators': 20},\n",
       " {'criterion': 'entropy',\n",
       "  'max_features': 'log2',\n",
       "  'max_samples': 0.3333333333333333,\n",
       "  'n_estimators': 30},\n",
       " {'criterion': 'entropy',\n",
       "  'max_features': 'log2',\n",
       "  'max_samples': 0.6666666666666666,\n",
       "  'n_estimators': 10},\n",
       " {'criterion': 'entropy',\n",
       "  'max_features': 'log2',\n",
       "  'max_samples': 0.6666666666666666,\n",
       "  'n_estimators': 20},\n",
       " {'criterion': 'entropy',\n",
       "  'max_features': 'log2',\n",
       "  'max_samples': 0.6666666666666666,\n",
       "  'n_estimators': 30}]"
      ]
     },
     "execution_count": 72,
     "metadata": {},
     "output_type": "execute_result"
    }
   ],
   "source": [
    "rejilla.cv_results_[\"params\"]"
   ]
  },
  {
   "cell_type": "code",
   "execution_count": 71,
   "metadata": {},
   "outputs": [
    {
     "name": "stdout",
     "output_type": "stream",
     "text": [
      "Con las siguientes variables, la ocurrencia será:  [1]\n"
     ]
    }
   ],
   "source": [
    "print(\"Con las siguientes variables, la ocurrencia será: \", mejor_bosque.predict([[6.008000, -75.507000, 21.4479, 0, 1769]]))"
   ]
  },
  {
   "cell_type": "code",
   "execution_count": 69,
   "metadata": {},
   "outputs": [
    {
     "name": "stdout",
     "output_type": "stream",
     "text": [
      "El valor mayor fue el mejor modelo : [36 34 33 30 26 19 29 24 22  5 11  6 35 15 17 10  9  7 32 31 28 14 20 13\n",
      " 16 21 18 25  4  2 27 23 12  8  1  3]\n",
      "\n",
      "resultado de la validación cruzada para los 12 modelos:\n",
      " [0.95504958 0.9598693  0.96124743 0.96314145 0.9658977  0.96744735\n",
      " 0.96520953 0.96624134 0.96658676 0.97244126 0.96968457 0.97209599\n",
      " 0.95935473 0.96830927 0.96796444 0.97054649 0.97089028 0.9712357\n",
      " 0.96124876 0.96210949 0.9653815  0.96882606 0.9674466  0.96916955\n",
      " 0.96796548 0.9669307  0.96796399 0.96606878 0.9724417  0.97312869\n",
      " 0.9657284  0.96658602 0.96934048 0.97106477 0.97433484 0.97295806]\n",
      "\n",
      "El mejor Score fue:  0.9743348439902096\n",
      "\n",
      "Los mejores estimadores son:  {'criterion': 'entropy', 'max_features': 'log2', 'max_samples': 0.6666666666666666, 'n_estimators': 20}\n"
     ]
    }
   ],
   "source": [
    "print(\"El valor mayor fue el mejor modelo :\", rejilla.cv_results_[\"rank_test_score\"])\n",
    "print(\"\\nresultado de la validación cruzada para los 12 modelos:\\n\", rejilla.cv_results_[\"mean_test_score\"])\n",
    "print(\"\\nEl mejor Score fue: \",rejilla.best_score_)\n",
    "print(\"\\nLos mejores estimadores son: \", rejilla.best_params_)"
   ]
  },
  {
   "cell_type": "markdown",
   "metadata": {},
   "source": [
    "Buscamos optimizar el accuracy"
   ]
  },
  {
   "cell_type": "code",
   "execution_count": 70,
   "metadata": {},
   "outputs": [
    {
     "name": "stdout",
     "output_type": "stream",
     "text": [
      "Con las siguientes variables, la ocurrencia será:  [0]\n",
      "Con las siguientes variables, la ocurrencia será:  [0]\n"
     ]
    }
   ],
   "source": [
    "# rejilla.predict es igual a rejilla.best_estimator_\n",
    "\n",
    "print(\"Con las siguientes variables, la ocurrencia será: \", rejilla.predict([[6.1846438, -75.6209755, 30, 0, 1769]]))\n",
    "\n",
    "mejor_bosque = rejilla.best_estimator_\n",
    "print(\"Con las siguientes variables, la ocurrencia será: \", mejor_bosque.predict([[6.1846438, -75.6209755, 30, 0, 1769]]))"
   ]
  },
  {
   "cell_type": "markdown",
   "metadata": {},
   "source": [
    "# Aplicando un solo Bosque aleatorio (Clasificador, para predecirme 0 o 1)"
   ]
  },
  {
   "cell_type": "code",
   "execution_count": 38,
   "metadata": {},
   "outputs": [
    {
     "name": "stdout",
     "output_type": "stream",
     "text": [
      "[0]\n",
      "% de items clasificados correctamente 1.0\n",
      "% de items clasificados correctamente 0.9958677685950413\n"
     ]
    }
   ],
   "source": [
    "bosque = RandomForestClassifier(n_estimators=30,        # Generar 100 arboles de deciones\n",
    "                               criterion=\"entropy\",\n",
    "                               max_features=\"sqrt\",\n",
    "                               bootstrap=True,\n",
    "                               max_samples=2/3,         # Porcentaje de datos para crear los muestreos\n",
    "                               oob_score=True)\n",
    "\n",
    "bosque.fit(Ocurrencia_Incendios[Ocurrencia_Incendios.columns[:-1]].values, Ocurrencia_Incendios[\"Ocurrencia\"].values)\n",
    "\n",
    "print(bosque.predict([[6.1846438, -75.6209755, 30, 0, 1769]]))\n",
    "\n",
    "print(\"% de items clasificados correctamente\", bosque.score(Ocurrencia_Incendios[Ocurrencia_Incendios.columns[:-1]].values, Ocurrencia_Incendios[\"Ocurrencia\"].values))\n",
    "# Evaluar modelo con los datos que se usaron para crear los arboles osea 2/3 de los datos\n",
    "\n",
    "print(\"% de items clasificados correctamente\", bosque.oob_score_)\n",
    "# Evaluado con aquellos items que no fueron utilizados para crear cada uno de los arboles 1/3 de datos\n"
   ]
  },
  {
   "cell_type": "code",
   "execution_count": null,
   "metadata": {},
   "outputs": [],
   "source": []
  }
 ],
 "metadata": {
  "kernelspec": {
   "display_name": "base",
   "language": "python",
   "name": "python3"
  },
  "language_info": {
   "codemirror_mode": {
    "name": "ipython",
    "version": 3
   },
   "file_extension": ".py",
   "mimetype": "text/x-python",
   "name": "python",
   "nbconvert_exporter": "python",
   "pygments_lexer": "ipython3",
   "version": "3.11.5"
  }
 },
 "nbformat": 4,
 "nbformat_minor": 2
}
